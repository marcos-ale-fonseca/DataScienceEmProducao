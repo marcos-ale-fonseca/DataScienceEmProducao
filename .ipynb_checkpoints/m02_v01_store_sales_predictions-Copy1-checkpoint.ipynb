{
 "cells": [
  {
   "cell_type": "markdown",
   "id": "3d884834",
   "metadata": {
    "heading_collapsed": true
   },
   "source": [
    "# 0.0 IMPORTS"
   ]
  },
  {
   "cell_type": "markdown",
   "id": "21302619",
   "metadata": {
    "heading_collapsed": true,
    "hidden": true
   },
   "source": [
    "## 0.1 Helper Functions"
   ]
  },
  {
   "cell_type": "code",
   "execution_count": 126,
   "id": "200be1d1",
   "metadata": {
    "ExecuteTime": {
     "end_time": "2023-05-19T19:20:21.155345Z",
     "start_time": "2023-05-19T19:20:21.151022Z"
    },
    "hidden": true
   },
   "outputs": [],
   "source": [
    "import math\n",
    "import pandas as pd\n",
    "import inflection\n",
    "import seaborn as sns\n",
    "import matplotlib. pyplot as plt\n",
    "\n",
    "from IPython.core.display import HTML\n",
    "# from ipython.core.display import HTMI"
   ]
  },
  {
   "cell_type": "code",
   "execution_count": 139,
   "id": "5f7c71e7",
   "metadata": {
    "ExecuteTime": {
     "end_time": "2023-05-22T22:40:45.570512Z",
     "start_time": "2023-05-22T22:40:45.247333Z"
    },
    "hidden": true
   },
   "outputs": [
    {
     "name": "stdout",
     "output_type": "stream",
     "text": [
      "%pylab is deprecated, use %matplotlib inline and import the required libraries.\n",
      "Populating the interactive namespace from numpy and matplotlib\n"
     ]
    },
    {
     "data": {
      "text/html": [
       "<style>.container { width:100% !important; }</style>"
      ],
      "text/plain": [
       "<IPython.core.display.HTML object>"
      ]
     },
     "metadata": {},
     "output_type": "display_data"
    }
   ],
   "source": [
    "def jupyter_settings(): \n",
    "    %matplotlib inline \n",
    "    %pylab inline\n",
    "    plt.style.use( 'bmh' )\n",
    "    plt.rcParams['figure.figsize'] = [25, 12]\n",
    "    plt.rcParams['font.size'] = 24\n",
    "    display( HTML( '<style>.container { width:100% !important; }</style>') ) \n",
    "    pd.options.display.max_columns = None\n",
    "    pd.options.display.max_rows = None\n",
    "    pd.set_option( 'display.expand_frame_repr', False )\n",
    "    sns.set()\n",
    "    \n",
    "jupyter_settings()"
   ]
  },
  {
   "cell_type": "markdown",
   "id": "a3447b58",
   "metadata": {
    "heading_collapsed": true,
    "hidden": true
   },
   "source": [
    "## 0.2 Loading Data"
   ]
  },
  {
   "cell_type": "code",
   "execution_count": 140,
   "id": "aea924e7",
   "metadata": {
    "ExecuteTime": {
     "end_time": "2023-05-22T22:41:11.586337Z",
     "start_time": "2023-05-22T22:41:09.925583Z"
    },
    "hidden": true
   },
   "outputs": [
    {
     "data": {
      "text/html": [
       "<div>\n",
       "<style scoped>\n",
       "    .dataframe tbody tr th:only-of-type {\n",
       "        vertical-align: middle;\n",
       "    }\n",
       "\n",
       "    .dataframe tbody tr th {\n",
       "        vertical-align: top;\n",
       "    }\n",
       "\n",
       "    .dataframe thead th {\n",
       "        text-align: right;\n",
       "    }\n",
       "</style>\n",
       "<table border=\"1\" class=\"dataframe\">\n",
       "  <thead>\n",
       "    <tr style=\"text-align: right;\">\n",
       "      <th></th>\n",
       "      <th>Store</th>\n",
       "      <th>DayOfWeek</th>\n",
       "      <th>Date</th>\n",
       "      <th>Sales</th>\n",
       "      <th>Customers</th>\n",
       "      <th>Open</th>\n",
       "      <th>Promo</th>\n",
       "      <th>StateHoliday</th>\n",
       "      <th>SchoolHoliday</th>\n",
       "      <th>StoreType</th>\n",
       "      <th>Assortment</th>\n",
       "      <th>CompetitionDistance</th>\n",
       "      <th>CompetitionOpenSinceMonth</th>\n",
       "      <th>CompetitionOpenSinceYear</th>\n",
       "      <th>Promo2</th>\n",
       "      <th>Promo2SinceWeek</th>\n",
       "      <th>Promo2SinceYear</th>\n",
       "      <th>PromoInterval</th>\n",
       "    </tr>\n",
       "  </thead>\n",
       "  <tbody>\n",
       "    <tr>\n",
       "      <th>351717</th>\n",
       "      <td>395</td>\n",
       "      <td>6</td>\n",
       "      <td>2014-08-30</td>\n",
       "      <td>2371</td>\n",
       "      <td>342</td>\n",
       "      <td>1</td>\n",
       "      <td>0</td>\n",
       "      <td>0</td>\n",
       "      <td>0</td>\n",
       "      <td>a</td>\n",
       "      <td>a</td>\n",
       "      <td>3620.0</td>\n",
       "      <td>2.0</td>\n",
       "      <td>2013.0</td>\n",
       "      <td>0</td>\n",
       "      <td>NaN</td>\n",
       "      <td>NaN</td>\n",
       "      <td>NaN</td>\n",
       "    </tr>\n",
       "  </tbody>\n",
       "</table>\n",
       "</div>"
      ],
      "text/plain": [
       "        Store  DayOfWeek        Date  Sales  Customers  Open  Promo StateHoliday  SchoolHoliday StoreType Assortment  CompetitionDistance  CompetitionOpenSinceMonth  CompetitionOpenSinceYear  Promo2  Promo2SinceWeek  Promo2SinceYear PromoInterval\n",
       "351717    395          6  2014-08-30   2371        342     1      0            0              0         a          a               3620.0                        2.0                    2013.0       0              NaN              NaN           NaN"
      ]
     },
     "execution_count": 140,
     "metadata": {},
     "output_type": "execute_result"
    }
   ],
   "source": [
    "df_sales_raw = pd.read_csv('data/rossmann_store_sales/train.csv', low_memory=False)\n",
    "df_store_raw = pd.read_csv('data/rossmann_store_sales/store.csv', low_memory=False)\n",
    "\n",
    "# Merge\n",
    "df_raw = pd.merge(df_sales_raw, df_store_raw, how='left', on='Store')\n",
    "df_raw.sample()"
   ]
  },
  {
   "cell_type": "markdown",
   "id": "37e23fe5",
   "metadata": {},
   "source": [
    "# 1.0 PASSO 01DESCRIÇAO DOS DADOS"
   ]
  },
  {
   "cell_type": "code",
   "execution_count": 141,
   "id": "1286d684",
   "metadata": {
    "ExecuteTime": {
     "end_time": "2023-05-22T22:41:13.333550Z",
     "start_time": "2023-05-22T22:41:12.854289Z"
    }
   },
   "outputs": [],
   "source": [
    "df1 = df_raw.copy()"
   ]
  },
  {
   "cell_type": "markdown",
   "id": "9cc3ad7b",
   "metadata": {},
   "source": [
    "##  1.1 Rename Columns"
   ]
  },
  {
   "cell_type": "code",
   "execution_count": 142,
   "id": "a5ef7fb2",
   "metadata": {
    "ExecuteTime": {
     "end_time": "2023-05-22T22:41:15.471627Z",
     "start_time": "2023-05-22T22:41:15.449903Z"
    }
   },
   "outputs": [],
   "source": [
    "cols_old = ['Store', 'DayOfWeek', 'Date', 'Sales', 'Customers', 'Open', 'Promo',\n",
    "       'StateHoliday', 'SchoolHoliday', 'StoreType', 'Assortment',\n",
    "       'CompetitionDistance', 'CompetitionOpenSinceMonth',\n",
    "       'CompetitionOpenSinceYear', 'Promo2', 'Promo2SinceWeek',\n",
    "       'Promo2SinceYear', 'PromoInterval']\n",
    "\n",
    "snakecase = lambda x: inflection.underscore(x)\n",
    "\n",
    "cols_new = list(map(snakecase, cols_old))\n",
    "\n",
    "# Rename\n",
    "df1.columns = cols_new"
   ]
  },
  {
   "cell_type": "markdown",
   "id": "0aa0122f",
   "metadata": {},
   "source": [
    "## 1.2 Data Dimensions"
   ]
  },
  {
   "cell_type": "code",
   "execution_count": 143,
   "id": "01b33930",
   "metadata": {
    "ExecuteTime": {
     "end_time": "2023-05-22T22:41:18.179458Z",
     "start_time": "2023-05-22T22:41:18.172574Z"
    }
   },
   "outputs": [
    {
     "name": "stdout",
     "output_type": "stream",
     "text": [
      "Number of rows:  1017209\n",
      "Number of cols:  18\n"
     ]
    }
   ],
   "source": [
    "print('Number of rows: ', df1.shape[0])\n",
    "print('Number of cols: ', df1.shape[1])"
   ]
  },
  {
   "cell_type": "markdown",
   "id": "71899925",
   "metadata": {},
   "source": [
    "## 1.3 Data Types"
   ]
  },
  {
   "cell_type": "code",
   "execution_count": 144,
   "id": "5eb41dbd",
   "metadata": {
    "ExecuteTime": {
     "end_time": "2023-05-22T22:41:21.325969Z",
     "start_time": "2023-05-22T22:41:21.162692Z"
    }
   },
   "outputs": [
    {
     "data": {
      "text/plain": [
       "store                                    int64\n",
       "day_of_week                              int64\n",
       "date                            datetime64[ns]\n",
       "sales                                    int64\n",
       "customers                                int64\n",
       "open                                     int64\n",
       "promo                                    int64\n",
       "state_holiday                           object\n",
       "school_holiday                           int64\n",
       "store_type                              object\n",
       "assortment                              object\n",
       "competition_distance                   float64\n",
       "competition_open_since_month           float64\n",
       "competition_open_since_year            float64\n",
       "promo2                                   int64\n",
       "promo2_since_week                      float64\n",
       "promo2_since_year                      float64\n",
       "promo_interval                          object\n",
       "dtype: object"
      ]
     },
     "execution_count": 144,
     "metadata": {},
     "output_type": "execute_result"
    }
   ],
   "source": [
    "df1['date'] = pd.to_datetime( df1['date'] )\n",
    "df1.dtypes"
   ]
  },
  {
   "cell_type": "markdown",
   "id": "2e09b244",
   "metadata": {},
   "source": [
    "## 1.4 Check NAs"
   ]
  },
  {
   "cell_type": "code",
   "execution_count": 145,
   "id": "41c6fd12",
   "metadata": {
    "ExecuteTime": {
     "end_time": "2023-05-22T22:41:23.154899Z",
     "start_time": "2023-05-22T22:41:22.981283Z"
    },
    "scrolled": true
   },
   "outputs": [
    {
     "data": {
      "text/plain": [
       "store                                0\n",
       "day_of_week                          0\n",
       "date                                 0\n",
       "sales                                0\n",
       "customers                            0\n",
       "open                                 0\n",
       "promo                                0\n",
       "state_holiday                        0\n",
       "school_holiday                       0\n",
       "store_type                           0\n",
       "assortment                           0\n",
       "competition_distance              2642\n",
       "competition_open_since_month    323348\n",
       "competition_open_since_year     323348\n",
       "promo2                               0\n",
       "promo2_since_week               508031\n",
       "promo2_since_year               508031\n",
       "promo_interval                  508031\n",
       "dtype: int64"
      ]
     },
     "execution_count": 145,
     "metadata": {},
     "output_type": "execute_result"
    }
   ],
   "source": [
    "df1.isna().sum()"
   ]
  },
  {
   "cell_type": "markdown",
   "id": "a0686065",
   "metadata": {},
   "source": [
    "## 1.5 Fillout NAs"
   ]
  },
  {
   "cell_type": "code",
   "execution_count": 146,
   "id": "5403a1bc",
   "metadata": {
    "ExecuteTime": {
     "end_time": "2023-05-22T22:41:25.296868Z",
     "start_time": "2023-05-22T22:41:25.282929Z"
    }
   },
   "outputs": [
    {
     "data": {
      "text/plain": [
       "75860.0"
      ]
     },
     "execution_count": 146,
     "metadata": {},
     "output_type": "execute_result"
    }
   ],
   "source": [
    "df1['competition_distance'].max()"
   ]
  },
  {
   "cell_type": "code",
   "execution_count": 147,
   "id": "e8a895b8",
   "metadata": {
    "ExecuteTime": {
     "end_time": "2023-05-22T22:42:27.481455Z",
     "start_time": "2023-05-22T22:41:26.662066Z"
    }
   },
   "outputs": [],
   "source": [
    "# competition_distance\n",
    "df1['competition_distance'] = df1['competition_distance'].apply(\n",
    "    lambda x: 200000.0 \n",
    "    if math.isnan( x ) \n",
    "    else x )\n",
    "\n",
    "# competition_open_since_month\n",
    "df1['competition_open_since_month'] = df1.apply( \n",
    "    lambda x: x['date'].month \n",
    "    if math.isnan( x['competition_open_since_month'] ) \n",
    "    else x['competition_open_since_month'], \n",
    "    axis=1 )\n",
    "\n",
    "# competition_open_since_year\n",
    "df1['competition_open_since_year'] = df1.apply( \n",
    "    lambda x: x['date'].year \n",
    "    if math.isnan( x['competition_open_since_year'] ) \n",
    "    else x['competition_open_since_year'], \n",
    "    axis=1 )\n",
    "\n",
    "# promo2_since_week\n",
    "df1['promo2_since_week'] = df1.apply( \n",
    "    lambda x: x['date'].week \n",
    "    if math.isnan( x['promo2_since_week'] ) \n",
    "    else x['promo2_since_week'], \n",
    "    axis=1 )\n",
    "\n",
    "# promo2_since_year\n",
    "df1['promo2_since_year'] = df1.apply( \n",
    "    lambda x: x['date'].year \n",
    "    if math.isnan( x['promo2_since_year'] ) \n",
    "    else x['promo2_since_year'], \n",
    "    axis=1 )"
   ]
  },
  {
   "cell_type": "code",
   "execution_count": null,
   "id": "b98b4f9c",
   "metadata": {
    "ExecuteTime": {
     "end_time": "2023-05-22T22:42:27.564522Z",
     "start_time": "2023-05-22T22:42:27.564498Z"
    }
   },
   "outputs": [],
   "source": [
    "# promo_interval\n",
    "month_map = {\n",
    "    1 : 'Jan',\n",
    "    2 : 'Fev',\n",
    "    3 : 'Mar',\n",
    "    4 : 'Apr',\n",
    "    5 : 'May',\n",
    "    6 : 'Jun',\n",
    "    7 : 'Jul',\n",
    "    8 : 'Aug',\n",
    "    9 : 'Sep',\n",
    "    10 : 'Oct',\n",
    "    11 : 'Nov',\n",
    "    12 : 'Dec',\n",
    "}\n",
    "\n",
    "df1['promo_interval'].fillna(0, inplace=True)\n",
    "\n",
    "df1['month_map'] = df1['date'].dt.month.map( month_map )\n",
    "\n",
    "df1['is_promo'] = df1[['promo_interval', 'month_map']].apply(\n",
    "    lambda x: 0 \n",
    "    if x['promo_interval'] == 0 \n",
    "    else 1 \n",
    "    if x['month_map'] in x['promo_interval'].split( ',' ) \n",
    "    else 0, \n",
    "    axis=1 )"
   ]
  },
  {
   "cell_type": "code",
   "execution_count": null,
   "id": "9c9a34f7",
   "metadata": {
    "ExecuteTime": {
     "end_time": "2023-05-22T22:42:27.574153Z",
     "start_time": "2023-05-22T22:42:27.574130Z"
    }
   },
   "outputs": [],
   "source": [
    "df1.isna().sum()"
   ]
  },
  {
   "cell_type": "markdown",
   "id": "64433ec3",
   "metadata": {},
   "source": [
    "## 1.6 Change Types"
   ]
  },
  {
   "cell_type": "code",
   "execution_count": null,
   "id": "fdd61684",
   "metadata": {
    "ExecuteTime": {
     "end_time": "2023-05-22T22:42:27.582217Z",
     "start_time": "2023-05-22T22:42:27.582195Z"
    }
   },
   "outputs": [],
   "source": [
    "df1.dtypes"
   ]
  },
  {
   "cell_type": "code",
   "execution_count": null,
   "id": "5ded311a",
   "metadata": {
    "ExecuteTime": {
     "end_time": "2023-05-22T22:42:27.591152Z",
     "start_time": "2023-05-22T22:42:27.591128Z"
    }
   },
   "outputs": [],
   "source": [
    "df1['competition_open_since_month'] = df1['competition_open_since_month'].astype( int )\n",
    "df1['competition_open_since_year'] = df1['competition_open_since_year'].astype( int )\n",
    "\n",
    "df1['promo2_since_week'] = df1['promo2_since_week'].astype( int )\n",
    "df1['promo2_since_year'] = df1['promo2_since_year'].astype( int )"
   ]
  },
  {
   "cell_type": "code",
   "execution_count": null,
   "id": "6ce3dc1d",
   "metadata": {
    "ExecuteTime": {
     "end_time": "2023-05-22T22:42:27.598706Z",
     "start_time": "2023-05-22T22:42:27.598683Z"
    }
   },
   "outputs": [],
   "source": [
    "df1.dtypes"
   ]
  },
  {
   "cell_type": "markdown",
   "id": "f7e90194",
   "metadata": {},
   "source": [
    "## 1.7 Descriptive Statistical"
   ]
  },
  {
   "cell_type": "code",
   "execution_count": null,
   "id": "c0172d9a",
   "metadata": {
    "ExecuteTime": {
     "end_time": "2023-05-22T22:42:27.606943Z",
     "start_time": "2023-05-22T22:42:27.606923Z"
    }
   },
   "outputs": [],
   "source": [
    "num_attributes = df1.select_dtypes( include=['int64', 'float64'] )\n",
    "\n",
    "cat_attributes = df1.select_dtypes( exclude=['int64', 'float64', 'datetime64[ns]'] )"
   ]
  },
  {
   "cell_type": "markdown",
   "id": "6d04eda6",
   "metadata": {},
   "source": [
    "### 1.7.1 Numerial Attributes"
   ]
  },
  {
   "cell_type": "code",
   "execution_count": null,
   "id": "f9839d62",
   "metadata": {
    "ExecuteTime": {
     "end_time": "2023-05-22T22:42:27.614445Z",
     "start_time": "2023-05-22T22:42:27.614422Z"
    }
   },
   "outputs": [],
   "source": [
    "# Central Tendency - mean, median\n",
    "ct1 = pd.DataFrame( num_attributes.apply( np.mean ) ).T\n",
    "ct2 = pd.DataFrame( num_attributes.apply( np.median ) ).T\n",
    "\n",
    "# Dispersion - std, min, max, range, skew, kurtosis\n",
    "d1 = pd.DataFrame( num_attributes.apply( np.std ) ).T\n",
    "d2 = pd.DataFrame( num_attributes.apply( min ) ).T\n",
    "d3 = pd.DataFrame( num_attributes.apply( max ) ).T\n",
    "d4 = pd.DataFrame( num_attributes.apply( lambda x: x.max() - x.min() ) ).T\n",
    "d5 = pd.DataFrame( num_attributes.apply( lambda x: x.skew() ) ).T\n",
    "d6 = pd.DataFrame( num_attributes.apply( lambda x: x.kurtosis() ) ).T\n",
    "\n",
    "# Concatenate\n",
    "m = pd.concat( [ d2, d3, d4, ct1, ct2, d1, d5, d6 ] ).T.reset_index()\n",
    "m.columns = [ 'attributes', 'min', 'max', 'range', 'mean', 'median', 'std', 'skew', 'kurtosis' ]"
   ]
  },
  {
   "cell_type": "code",
   "execution_count": null,
   "id": "20e7e8a7",
   "metadata": {
    "ExecuteTime": {
     "end_time": "2023-05-22T22:42:27.622539Z",
     "start_time": "2023-05-22T22:42:27.622518Z"
    },
    "scrolled": true
   },
   "outputs": [],
   "source": [
    "m"
   ]
  },
  {
   "cell_type": "code",
   "execution_count": null,
   "id": "f79b4c30",
   "metadata": {
    "ExecuteTime": {
     "end_time": "2023-05-22T22:42:27.630986Z",
     "start_time": "2023-05-22T22:42:27.630963Z"
    }
   },
   "outputs": [],
   "source": [
    "sns.distplot( df1['competition_distance'] )"
   ]
  },
  {
   "cell_type": "markdown",
   "id": "7b1c64d8",
   "metadata": {},
   "source": [
    "### 1.7.2 Categorical Attributes"
   ]
  },
  {
   "cell_type": "code",
   "execution_count": null,
   "id": "51496fb9",
   "metadata": {
    "ExecuteTime": {
     "end_time": "2023-05-22T22:42:27.639581Z",
     "start_time": "2023-05-22T22:42:27.639557Z"
    }
   },
   "outputs": [],
   "source": [
    "cat_attributes.apply( lambda x: x.unique().shape[0] )"
   ]
  },
  {
   "cell_type": "code",
   "execution_count": null,
   "id": "28eef463",
   "metadata": {
    "ExecuteTime": {
     "end_time": "2023-05-22T22:42:27.648345Z",
     "start_time": "2023-05-22T22:42:27.648321Z"
    }
   },
   "outputs": [],
   "source": [
    "aux1 = df1[ ( df1['state_holiday'] != '0' ) & (df1['sales'] > 0) ]\n",
    "\n",
    "plt.subplot(1, 3, 1)\n",
    "sns.boxplot(x='state_holiday', y='sales', data=aux1)\n",
    "\n",
    "plt.subplot(1, 3, 2)\n",
    "sns.boxplot(x='store_type', y='sales', data=aux1)\n",
    "\n",
    "plt.subplot(1, 3, 3)\n",
    "sns.boxplot(x='assortment', y='sales', data=aux1)"
   ]
  },
  {
   "cell_type": "code",
   "execution_count": null,
   "id": "f59d6947",
   "metadata": {
    "ExecuteTime": {
     "end_time": "2023-05-18T17:30:41.118721Z",
     "start_time": "2023-05-18T17:30:41.110324Z"
    }
   },
   "outputs": [],
   "source": []
  },
  {
   "cell_type": "code",
   "execution_count": null,
   "id": "13d51497",
   "metadata": {},
   "outputs": [],
   "source": []
  }
 ],
 "metadata": {
  "kernelspec": {
   "display_name": "Python 3 (ipykernel)",
   "language": "python",
   "name": "python3"
  },
  "language_info": {
   "codemirror_mode": {
    "name": "ipython",
    "version": 3
   },
   "file_extension": ".py",
   "mimetype": "text/x-python",
   "name": "python",
   "nbconvert_exporter": "python",
   "pygments_lexer": "ipython3",
   "version": "3.9.16"
  },
  "varInspector": {
   "cols": {
    "lenName": 16,
    "lenType": 16,
    "lenVar": 40
   },
   "kernels_config": {
    "python": {
     "delete_cmd_postfix": "",
     "delete_cmd_prefix": "del ",
     "library": "var_list.py",
     "varRefreshCmd": "print(var_dic_list())"
    },
    "r": {
     "delete_cmd_postfix": ") ",
     "delete_cmd_prefix": "rm(",
     "library": "var_list.r",
     "varRefreshCmd": "cat(var_dic_list()) "
    }
   },
   "types_to_exclude": [
    "module",
    "function",
    "builtin_function_or_method",
    "instance",
    "_Feature"
   ],
   "window_display": false
  }
 },
 "nbformat": 4,
 "nbformat_minor": 5
}
